{
 "cells": [
  {
   "cell_type": "code",
   "execution_count": 78,
   "id": "e1711ccc-a2e0-4ab0-950b-646dd53a294f",
   "metadata": {},
   "outputs": [
    {
     "name": "stdout",
     "output_type": "stream",
     "text": [
      "Company profit/loss records\n",
      "---------------------------\n",
      "No. of months on record: 86\n",
      "Net profit over period: $38382578\n",
      "Avg Change (monthly): $-2315.12\n",
      "Greatest Increase in Profits: Feb-2012 ($1926159)\n",
      "Greatest Decrease in Profits: Sep-2013 ($-2196167)\n"
     ]
    }
   ],
   "source": [
    "from pathlib import Path\n",
    "import csv\n",
    "\n",
    "csvpath = Path('budget_data.csv')\n",
    "months = []\n",
    "netProfit = 0\n",
    "changes = []\n",
    "count = 0\n",
    "mini = [\"month\", 0]\n",
    "maxi = [\"month\", 0]\n",
    "\n",
    "with open(csvpath, 'r') as csvfile:\n",
    "    \n",
    "    csvreader = csv.reader(csvfile, delimiter=',')\n",
    "    header = next(csvreader)\n",
    "    \n",
    "    for row in csvreader:\n",
    "        month = row\n",
    "        months.append(month)\n",
    "        \n",
    "for month in months:\n",
    "    \n",
    "    if count == 1:\n",
    "        changes.append([month[0],int(month[1])-lastMonth])\n",
    "        lastMonth = int(month[1])\n",
    "    else:\n",
    "        lastMonth = int(month[1])\n",
    "        count += 1\n",
    "    netProfit += int(month[1])\n",
    "    \n",
    "count = 0\n",
    "sumo = 0\n",
    "for change in changes:\n",
    "    if change[1] > maxi[1]:\n",
    "        maxi = change\n",
    "    elif change[1] < mini[1]:\n",
    "        mini = change\n",
    "    sumo += change[1]\n",
    "    count += 1\n",
    "totalMonths = len(months)\n",
    "avgChange = round(sumo/count, 2)\n",
    "\n",
    "print(\"Company profit/loss records\")\n",
    "print(\"---------------------------\")\n",
    "print(\"No. of months on record: \" + str(totalMonths))\n",
    "print(\"Net profit over period: $\" + str(netProfit))\n",
    "print(\"Avg Change (monthly): $\" + str(avgChange))\n",
    "print(\"Greatest Increase in Profits: \" + str(maxi[0]) + \" ($\" + str(maxi[1]) + \")\")\n",
    "print(\"Greatest Decrease in Profits: \" + str(mini[0]) + \" ($\" + str(mini[1]) + \")\")\n"
   ]
  },
  {
   "cell_type": "markdown",
   "id": "fe7410c6-9dda-4fb8-bc75-efa050b3a10f",
   "metadata": {},
   "source": [
    "Your task is to create a Python script that analyzes the records to calculate each of the following:\n",
    "\n",
    "The total number of months included in the dataset\n",
    "\n",
    "The net total amount of Profit/Losses over the entire period\n",
    "\n",
    "The average of the changes in Profit/Losses over the entire period\n",
    "\n",
    "The greatest increase in profits (date and amount) over the entire period\n",
    "\n",
    "The greatest decrease in losses (date and amount) over the entire period"
   ]
  },
  {
   "cell_type": "code",
   "execution_count": null,
   "id": "dbb55992-633d-49fd-a883-af8037373eee",
   "metadata": {},
   "outputs": [],
   "source": []
  }
 ],
 "metadata": {
  "kernelspec": {
   "display_name": "Python 3 (ipykernel)",
   "language": "python",
   "name": "python3"
  },
  "language_info": {
   "codemirror_mode": {
    "name": "ipython",
    "version": 3
   },
   "file_extension": ".py",
   "mimetype": "text/x-python",
   "name": "python",
   "nbconvert_exporter": "python",
   "pygments_lexer": "ipython3",
   "version": "3.9.12"
  }
 },
 "nbformat": 4,
 "nbformat_minor": 5
}
